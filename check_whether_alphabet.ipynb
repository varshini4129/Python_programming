{
  "nbformat": 4,
  "nbformat_minor": 0,
  "metadata": {
    "colab": {
      "provenance": [],
      "authorship_tag": "ABX9TyN6F4AqNBj80U4xowmiNKHg",
      "include_colab_link": true
    },
    "kernelspec": {
      "name": "python3",
      "display_name": "Python 3"
    },
    "language_info": {
      "name": "python"
    }
  },
  "cells": [
    {
      "cell_type": "markdown",
      "metadata": {
        "id": "view-in-github",
        "colab_type": "text"
      },
      "source": [
        "<a href=\"https://colab.research.google.com/github/varshini4129/Python_programming/blob/main/check_whether_alphabet.ipynb\" target=\"_parent\"><img src=\"https://colab.research.google.com/assets/colab-badge.svg\" alt=\"Open In Colab\"/></a>"
      ]
    },
    {
      "cell_type": "code",
      "execution_count": null,
      "metadata": {
        "colab": {
          "base_uri": "https://localhost:8080/"
        },
        "id": "CteHQUGaGWeC",
        "outputId": "fe0b01d7-a581-44f3-871e-13daa5c41a3f"
      },
      "outputs": [
        {
          "output_type": "stream",
          "name": "stdout",
          "text": [
            "a is  na alphabet\n"
          ]
        }
      ],
      "source": [
        "\"\"\" #normal method\n",
        "\n",
        "input='a'\n",
        "if 'a' <= input <= 'z' or 'A' <= input <= 'Z':\n",
        "  print(input,\"is a alphabet\")\n",
        "else:\n",
        "  print(input,\"is not a alphabet\")\n",
        "\"\"\"\n",
        "\n",
        "\"\"\" #using ASCII VALUES\n",
        "input='a'\n",
        "\n",
        "if 97 <= ord(input) <= 122 or 65 <= ord(input) <= 90:\n",
        "    print(input,\"is a alphabet\")\n",
        "else:\n",
        "  print(input,\"is not a alphabet\")\n",
        "\"\"\""
      ]
    }
  ]
}